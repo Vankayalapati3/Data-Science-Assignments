{
 "cells": [
  {
   "cell_type": "code",
   "execution_count": 13,
   "metadata": {},
   "outputs": [],
   "source": [
    "import os\n",
    "import csv\n",
    "import random"
   ]
  },
  {
   "cell_type": "markdown",
   "metadata": {},
   "source": [
    "**RandomTeamGenerator**\n",
    "\n",
    "*In this code we take number of teams as input and we get the desired number of teams with random generation of members included in the team.*\n",
    "\n",
    "*The os is imported to load the file from local repository and csv is imported to read from file,random is imported to randomize the selection of team.*\n",
    "*The first function\"uniqueStudentNames\" defined in the code is used to read the file and it returs the unique student names.*\n",
    "\n",
    "*In the next function defined\"teamsWithRandomChoice\" for loop plays a huge role  because it contains the core logic of the program to generate random team.*\n",
    "*Thus at the end number of teams is taken as input and printed.*"
   ]
  },
  {
   "cell_type": "code",
   "execution_count": 14,
   "metadata": {},
   "outputs": [],
   "source": [
    "def uniqueStudentNames(input_file):\n",
    "    unique_student_names = set()\n",
    "    with open(input_file, 'r') as file_handler: \n",
    "        tsv_data = csv.DictReader(file_handler, delimiter=\"\\t\") \n",
    "        unique_student_names = { line.get('Student Name') for line in tsv_data } \n",
    "    return unique_student_names"
   ]
  },
  {
   "cell_type": "code",
   "execution_count": 15,
   "metadata": {},
   "outputs": [
    {
     "name": "stdout",
     "output_type": "stream",
     "text": [
      "team_0 13 ['Kakkireni, Sai Nikhil', 'Vankayalapati, Vishnu Vardhan', 'Jagamoni, Sravya', 'Kurri, Lakshmi Gayathri', 'Atukuri, Sai Venkatesh', 'Sardar, Karan Singh', 'Panchumarthi, Ramya', 'Zhu, Pengxu', 'Panyala, Gunakar Reddy', 'Sirigiri, Harinath', 'Kantipudi, Bala Rama Krishna', 'Hayes, Priscilla M.', 'Manne, Kavya']\n",
      "team_1 13 ['Suresh, Akash', 'Boga, Rahul', 'Vemireddy, Soujanya', 'Panchumarthi, Rajitha', 'Chundru, Tejasai', 'Chittiprolu, Sai Manideep', 'Vanga, Mahesh Krishna Reddy', 'Cheedu, Venkat Narayan Reddy', 'Avirneni, Anvesh', 'Kanduri, Karthik Reddy', 'Mundru, Jaya Krishna', 'Rhodes, Suqoya J.', 'Galang, Japp Timothy G.']\n",
      "team_2 13 ['Gunti, Rahul Sathya', 'Halbert, Dillon J.', 'Pathi, Akhilesh', 'Mandalapu, Sri Lakshmi Jahnavi', 'Kondapalli, Venkata Phani Raj S.', 'Bandi, Sai Vineeth Reddy', 'Bolisetty, Nikhil', 'Annavarapu, Aswini K.', 'Aluru, Praneeth', 'Vadapally, Ramya Sree', 'Parne, Chakradhar Reddy', 'Bolloju, Satya Sai Srimannarayana Sarma', 'Tella, Sowmya']\n"
     ]
    }
   ],
   "source": [
    "def teamsWithRandomChoice( no_of_teams = 1):\n",
    "    inFile = 'Data.tsv'\n",
    "    if not os.path.isfile(inFile):\n",
    "        raise Exception('Unable find the file in the given path!')\n",
    "    \n",
    "    group_data = {f'team_{i}':[] for i in range(no_of_teams)}\n",
    "\n",
    "    unique_student_names = uniqueStudentNames(inFile) \n",
    "    no_of_unique_students = len(unique_student_names)\n",
    "    team_id = 0\n",
    "    for i in range(no_of_unique_students):\n",
    "        if team_id == no_of_teams:\n",
    "            team_id = 0\n",
    "        student_name = random.choice(list(unique_student_names))\n",
    "        unique_student_names.remove(student_name)\n",
    "        group_data[f'team_{team_id}'].append(student_name)\n",
    "        team_id += 1\n",
    "    return group_data\n",
    "no_of_teams = int(input(\"Enter number of teams\"))\n",
    "random_teams = teamsWithRandomChoice(no_of_teams=no_of_teams)\n",
    "for team_id in random_teams:\n",
    "    print(team_id, len(random_teams[team_id]), random_teams[team_id])"
   ]
  },
  {
   "cell_type": "code",
   "execution_count": null,
   "metadata": {},
   "outputs": [],
   "source": []
  }
 ],
 "metadata": {
  "interpreter": {
   "hash": "a25b2d42e0fe57251b6ece2b75d30429fe26895efea1faac6949f166a7477be7"
  },
  "kernelspec": {
   "display_name": "Python 3 (ipykernel)",
   "language": "python",
   "name": "python3"
  },
  "language_info": {
   "codemirror_mode": {
    "name": "ipython",
    "version": 3
   },
   "file_extension": ".py",
   "mimetype": "text/x-python",
   "name": "python",
   "nbconvert_exporter": "python",
   "pygments_lexer": "ipython3",
   "version": "3.10.1"
  }
 },
 "nbformat": 4,
 "nbformat_minor": 2
}
